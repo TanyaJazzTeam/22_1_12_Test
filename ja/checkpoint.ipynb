{
  "cells": [
    {
      "cell_type": "markdown",
      "metadata": {
        "colab_type": "text",
        "id": "Pnn4rDWGqDZL"
      },
      "source": [
        "##### 著作権 2018 TensorFlow 著者。"
      ]
    },
    {
      "cell_type": "code",
      "execution_count": 0,
      "metadata": {
        "cellView": "form",
        "colab": {
        },
        "colab_type": "code",
        "id": "l534d35Gp68G"
      },
      "outputs": [

      ],
      "source": [
        "#@title Licensed under the Apache License, Version 2.0 (the \"License\");\n",
        "# you may not use this file except in compliance with the License.\n",
        "# You may obtain a copy of the License at\n",
        "#\n",
        "# https://www.apache.org/licenses/LICENSE-2.0\n",
        "#\n",
        "# Unless required by applicable law or agreed to in writing, software\n",
        "# distributed under the License is distributed on an \"AS IS\" BASIS,\n",
        "# WITHOUT WARRANTIES OR CONDITIONS OF ANY KIND, either express or implied.\n",
        "# See the License for the specific language governing permissions and\n",
        "# limitations under the License."
      ]
    },
    {
      "cell_type": "markdown",
      "metadata": {
        "colab_type": "text",
        "id": "3TI3Q3XBesaS"
      },
      "source": [
        "# トレーニングのチェックポイント"
      ]
    },
    {
      "cell_type": "markdown",
      "metadata": {
        "colab_type": "text",
        "id": "yw_a0iGucY8z"
      },
      "source": [
        "<table class=\"tfo-notebook-buttons\" align=\"left\">\n",
        "  <td>     <a target=\"_blank\" href=\"https://www.tensorflow.org/guide/checkpoint\"><img src=\"https://www.tensorflow.org/images/tf_logo_32px.png\">TensorFlow.org で見る</a>   </td>\n",
        "  <td>     <a target=\"_blank\" href=\"https://colab.research.google.com/github/tensorflow/docs/blob/master/site/en/guide/checkpoint.ipynb\"><img src=\"https://www.tensorflow.org/images/colab_logo_32px.png\">Google Colab で実行する</a>   </td>\n",
        "  <td>     <a target=\"_blank\" href=\"https://github.com/tensorflow/docs/blob/master/site/en/guide/checkpoint.ipynb\"><img src=\"https://www.tensorflow.org/images/GitHub-Mark-32px.png\">GitHub でソースを表示</a>   </td>\n",
        "  <td>     <a href=\"https://storage.googleapis.com/tensorflow_docs/docs/site/en/guide/checkpoint.ipynb\"><img src=\"https://www.tensorflow.org/images/download_logo_32px.png\">ノートブックをダウンロード</a>   </td>\n",
        "</table>"
      ]
    },
    {
      "cell_type": "markdown",
      "metadata": {
        "colab_type": "text",
        "id": "LeDp7dovcbus"
      },
      "source": [
        "「TensorFlow モデルを保存する」というフレーズは通常、次の 2 つのいずれかを意味します。\n",
        "\n",
        "1. チェックポイント、または\n",
        "2. 保存されたモデル。\n",
        "\n",
        "チェックポイントは、モデルで使用されるすべてのパラメーター ( `tf.Variable`オブジェクト) の正確な値をキャプチャします。チェックポイントには、モデルによって定義された計算の記述が含まれていないため、通常は、保存されたパラメーター値を使用するソース コードが利用可能な場合にのみ役立ちます。\n",
        "\n",
        "一方、SavedModel 形式には、パラメーター値 (チェックポイント) に加えて、モデルによって定義された計算のシリアル化された記述が含まれます。この形式のモデルは、モデルを作成したソース コードから独立しています。したがって、これらは TensorFlow Serving、TensorFlow Lite、TensorFlow.js、または他のプログラミング言語 (C、C++、Java、Go、Rust、C# などの TensorFlow API) のプログラムを介したデプロイメントに適しています。\n",
        "\n",
        "このガイドでは、チェックポイントの書き込みと読み取りのための API について説明します。"
      ]
    },
    {
      "cell_type": "code",
      "execution_count": 0,
      "metadata": {
        "colab": {
        },
        "colab_type": "code",
        "id": "VEvpMYAKsC4z"
      },
      "outputs": [

      ],
      "source": [
        "import tensorflow as tf"
      ]
    },
    {
      "cell_type": "code",
      "execution_count": 0,
      "metadata": {
        "colab": {
        },
        "colab_type": "code",
        "id": "OEQCseyeC4Ev"
      },
      "outputs": [

      ],
      "source": [
        "class Net(tf.keras.Model):\n",
        "  \"\"\"A simple linear model.\"\"\"\n",
        "\n",
        "  def __init__(self):\n",
        "    super(Net, self).__init__()\n",
        "    self.l1 = tf.keras.layers.Dense(5)\n",
        "\n",
        "  def call(self, x):\n",
        "    return self.l1(x)"
      ]
    },
    {
      "cell_type": "code",
      "execution_count": 0,
      "metadata": {
        "colab": {
        },
        "colab_type": "code",
        "id": "utqeoDADC5ZR"
      },
      "outputs": [

      ],
      "source": [
        "net = Net()"
      ]
    },
    {
      "cell_type": "markdown",
      "metadata": {
        "colab_type": "text",
        "id": "5vsq3-pffo1I"
      },
      "source": [
        "## `tf.keras`トレーニング API からの保存\n",
        "\n",
        "[保存と復元については`tf.keras`ガイド](./keras/overview.ipynb#save_and_restore)を参照してください。\n",
        "\n",
        "`tf.keras.Model.save_weights` TensorFlow チェックポイントを保存します。 "
      ]
    },
    {
      "cell_type": "code",
      "execution_count": 0,
      "metadata": {
        "colab": {
        },
        "colab_type": "code",
        "id": "SuhmrYPEl4D_"
      },
      "outputs": [

      ],
      "source": [
        "net.save_weights('easy_checkpoint')"
      ]
    },
    {
      "cell_type": "markdown",
      "metadata": {
        "colab_type": "text",
        "id": "XseWX5jDg4lQ"
      },
      "source": [
        "## チェックポイントの書き込み\n"
      ]
    },
    {
      "cell_type": "markdown",
      "metadata": {
        "colab_type": "text",
        "id": "1jpZPz76ZP3K"
      },
      "source": [
        "TensorFlow モデルの永続的な状態は`tf.Variable`オブジェクトに保存されます。これらは直接構築できますが、多くの場合、 `tf.keras.layers`や`tf.keras.Model`などの高レベル API を通じて作成されます。\n",
        "\n",
        "変数を管理する最も簡単な方法は、変数を Python オブジェクトにアタッチし、それらのオブジェクトを参照することです。\n",
        "\n",
        "`tf.train.Checkpoint` 、 `tf.keras.layers.Layer` 、および`tf.keras.Model`のサブクラスは、その属性に割り当てられた変数を自動的に追跡します。次の例では、単純な線形モデルを構築し、モデルのすべての変数の値を含むチェックポイントを書き込みます。"
      ]
    },
    {
      "cell_type": "markdown",
      "metadata": {
        "colab_type": "text",
        "id": "x0vFBr_Im73_"
      },
      "source": [
        "`Model.save_weights`を使用すると、モデルチェックポイントを簡単に保存できます。"
      ]
    },
    {
      "cell_type": "markdown",
      "metadata": {
        "colab_type": "text",
        "id": "FHTJ1JzxCi8a"
      },
      "source": [
        "### 手動チェックポイント設定"
      ]
    },
    {
      "cell_type": "markdown",
      "metadata": {
        "colab_type": "text",
        "id": "6cF9fqYOCrEO"
      },
      "source": [
        "#### 設定"
      ]
    },
    {
      "cell_type": "markdown",
      "metadata": {
        "colab_type": "text",
        "id": "fNjf9KaLdIRP"
      },
      "source": [
        "`tf.train.Checkpoint`のすべての機能をデモンストレーションするために、おもちゃのデータセットと最適化ステップを定義します。"
      ]
    },
    {
      "cell_type": "code",
      "execution_count": 0,
      "metadata": {
        "colab": {
        },
        "colab_type": "code",
        "id": "tSNyP4IJ9nkU"
      },
      "outputs": [

      ],
      "source": [
        "def toy_dataset():\n",
        "  inputs = tf.range(10.)[:, None]\n",
        "  labels = inputs * 5. + tf.range(5.)[None, :]\n",
        "  return tf.data.Dataset.from_tensor_slices(\n",
        "    dict(x=inputs, y=labels)).repeat().batch(2)"
      ]
    },
    {
      "cell_type": "code",
      "execution_count": 0,
      "metadata": {
        "colab": {
        },
        "colab_type": "code",
        "id": "ICm1cufh_JH8"
      },
      "outputs": [

      ],
      "source": [
        "def train_step(net, example, optimizer):\n",
        "  \"\"\"Trains `net` on `example` using `optimizer`.\"\"\"\n",
        "  with tf.GradientTape() as tape:\n",
        "    output = net(example['x'])\n",
        "    loss = tf.reduce_mean(tf.abs(output - example['y']))\n",
        "  variables = net.trainable_variables\n",
        "  gradients = tape.gradient(loss, variables)\n",
        "  optimizer.apply_gradients(zip(gradients, variables))\n",
        "  return loss"
      ]
    },
    {
      "cell_type": "markdown",
      "metadata": {
        "colab_type": "text",
        "id": "vxzGpHRbOVO6"
      },
      "source": [
        "#### チェックポイント オブジェクトを作成する\n",
        "\n",
        "チェックポイントを手動で作成するには、 `tf.train.Checkpoint`オブジェクトが必要です。チェックポイントを作成するオブジェクトがオブジェクトの属性として設定される場所。\n",
        "\n",
        "`tf.train.CheckpointManager`は、複数のチェックポイントの管理にも役立ちます。"
      ]
    },
    {
      "cell_type": "code",
      "execution_count": 0,
      "metadata": {
        "colab": {
        },
        "colab_type": "code",
        "id": "ou5qarOQOWYl"
      },
      "outputs": [

      ],
      "source": [
        "opt = tf.keras.optimizers.Adam(0.1)\n",
        "dataset = toy_dataset()\n",
        "iterator = iter(dataset)\n",
        "ckpt = tf.train.Checkpoint(step=tf.Variable(1), optimizer=opt, net=net, iterator=iterator)\n",
        "manager = tf.train.CheckpointManager(ckpt, './tf_ckpts', max_to_keep=3)"
      ]
    },
    {
      "cell_type": "markdown",
      "metadata": {
        "colab_type": "text",
        "id": "8ZbYSD4uCy96"
      },
      "source": [
        "#### モデルをトレーニングしてチェックポイントを作成する"
      ]
    },
    {
      "cell_type": "markdown",
      "metadata": {
        "colab_type": "text",
        "id": "NP9IySmCeCkn"
      },
      "source": [
        "次のトレーニング ループは、モデルとオプティマイザーのインスタンスを作成し、それらを`tf.train.Checkpoint`オブジェクトに収集します。データの各バッチに対してループ内のトレーニング ステップを呼び出し、定期的にチェックポイントをディスクに書き込みます。"
      ]
    },
    {
      "cell_type": "code",
      "execution_count": 0,
      "metadata": {
        "colab": {
        },
        "colab_type": "code",
        "id": "BbCS5A6K1VSH"
      },
      "outputs": [

      ],
      "source": [
        "def train_and_checkpoint(net, manager):\n",
        "  ckpt.restore(manager.latest_checkpoint)\n",
        "  if manager.latest_checkpoint:\n",
        "    print(\"Restored from {}\".format(manager.latest_checkpoint))\n",
        "  else:\n",
        "    print(\"Initializing from scratch.\")\n",
        "\n",
        "  for _ in range(50):\n",
        "    example = next(iterator)\n",
        "    loss = train_step(net, example, opt)\n",
        "    ckpt.step.assign_add(1)\n",
        "    if int(ckpt.step) % 10 == 0:\n",
        "      save_path = manager.save()\n",
        "      print(\"Saved checkpoint for step {}: {}\".format(int(ckpt.step), save_path))\n",
        "      print(\"loss {:1.2f}\".format(loss.numpy()))"
      ]
    },
    {
      "cell_type": "code",
      "execution_count": 0,
      "metadata": {
        "colab": {
        },
        "colab_type": "code",
        "id": "Ik3IBMTdPW41"
      },
      "outputs": [

      ],
      "source": [
        "train_and_checkpoint(net, manager)"
      ]
    },
    {
      "cell_type": "markdown",
      "metadata": {
        "colab_type": "text",
        "id": "2wzcc1xYN-sH"
      },
      "source": [
        "#### 回復してトレーニングを継続する"
      ]
    },
    {
      "cell_type": "markdown",
      "metadata": {
        "colab_type": "text",
        "id": "lw1QeyRBgsLE"
      },
      "source": [
        "最初の後に、新しいモデルとマネージャーを渡すことができますが、中断したところからトレーニングを開始します。"
      ]
    },
    {
      "cell_type": "code",
      "execution_count": 0,
      "metadata": {
        "colab": {
        },
        "colab_type": "code",
        "id": "UjilkTOV2PBK"
      },
      "outputs": [

      ],
      "source": [
        "opt = tf.keras.optimizers.Adam(0.1)\n",
        "net = Net()\n",
        "dataset = toy_dataset()\n",
        "iterator = iter(dataset)\n",
        "ckpt = tf.train.Checkpoint(step=tf.Variable(1), optimizer=opt, net=net, iterator=iterator)\n",
        "manager = tf.train.CheckpointManager(ckpt, './tf_ckpts', max_to_keep=3)\n",
        "\n",
        "train_and_checkpoint(net, manager)"
      ]
    },
    {
      "cell_type": "markdown",
      "metadata": {
        "colab_type": "text",
        "id": "dxJT9vV-2PnZ"
      },
      "source": [
        "`tf.train.CheckpointManager`オブジェクトは古いチェックポイントを削除します。上記では、最新の 3 つのチェックポイントのみを保持するように構成されています。"
      ]
    },
    {
      "cell_type": "code",
      "execution_count": 0,
      "metadata": {
        "colab": {
        },
        "colab_type": "code",
        "id": "3zmM0a-F5XqC"
      },
      "outputs": [

      ],
      "source": [
        "print(manager.checkpoints)  # List the three remaining checkpoints"
      ]
    },
    {
      "cell_type": "markdown",
      "metadata": {
        "colab_type": "text",
        "id": "qwlYDyjemY4P"
      },
      "source": [
        "これらのパス (例: `'./tf_ckpts/ckpt-10'`は、ディスク上のファイルではありません。代わりに、それらは`index`ファイルと、変数値を含む 1 つ以上のデータ ファイルのプレフィックスになります。これらのプレフィックスは、 `CheckpointManager`がその状態を保存する単一の`checkpoint`ファイル ( `'./tf_ckpts/checkpoint'` ) にグループ化されます。"
      ]
    },
    {
      "cell_type": "code",
      "execution_count": 0,
      "metadata": {
        "colab": {
        },
        "colab_type": "code",
        "id": "t1feej9JntV_"
      },
      "outputs": [

      ],
      "source": [
        "!ls ./tf_ckpts"
      ]
    },
    {
      "cell_type": "markdown",
      "metadata": {
        "colab_type": "text",
        "id": "DR2wQc9x6b3X"
      },
      "source": [
        "<a id=\"loading_mechanics\"></a>\n",
        "\n",
        "## ローディング機構\n",
        "\n",
        "TensorFlow は、ロードされるオブジェクトから開始して、名前付きエッジを持つ有向グラフを走査することにより、変数をチェックポイントされた値と照合します。エッジ名は通常、オブジェクトの属性名から取得されます (例: `self.l1 = tf.keras.layers.Dense(5)`の`\"l1\"` )。 `tf.train.Checkpoint` `tf.train.Checkpoint(step=...)`の`\"step\"`のように、キーワード引数名​​を使用します。\n",
        "\n",
        "上記の例の依存関係グラフは次のようになります。\n",
        "\n",
        "![サンプルトレーニングループの依存関係グラフの視覚化](https://tensorflow.org/images/guide/whole_checkpoint.svg)\n",
        "\n",
        "オプティマイザーは赤、通常変数は青、オプティマイザー スロット変数はオレンジ色です。他のノード (たとえば`tf.train.Checkpoint`を表す) は黒です。\n",
        "\n",
        "スロット変数はオプティマイザの状態の一部ですが、特定の変数用に作成されます。たとえば、上の`'m'`エッジは運動量に対応し、Adam オプティマイザーは変数ごとに追跡します。スロット変数は、変数とオプティマイザの両方が保存される場合にのみチェックポイントに保存されるため、破線のエッジになります。"
      ]
    },
    {
      "cell_type": "markdown",
      "metadata": {
        "colab_type": "text",
        "id": "VpY5IuanUEQ0"
      },
      "source": [
        "`tf.train.Checkpoint`オブジェクトで`restore()`を呼び出すと、要求された復元がキューに入れられ、 `Checkpoint`オブジェクトから一致するパスが見つかるとすぐに変数値が復元されます。たとえば、ネットワークとレイヤーを介してモデルへの 1 つのパスを再構築することで、上で定義したモデルからバイアスだけを読み込むことができます。"
      ]
    },
    {
      "cell_type": "code",
      "execution_count": 0,
      "metadata": {
        "colab": {
        },
        "colab_type": "code",
        "id": "wmX2AuyH7TVt"
      },
      "outputs": [

      ],
      "source": [
        "to_restore = tf.Variable(tf.zeros([5]))\n",
        "print(to_restore.numpy())  # All zeros\n",
        "fake_layer = tf.train.Checkpoint(bias=to_restore)\n",
        "fake_net = tf.train.Checkpoint(l1=fake_layer)\n",
        "new_root = tf.train.Checkpoint(net=fake_net)\n",
        "status = new_root.restore(tf.train.latest_checkpoint('./tf_ckpts/'))\n",
        "print(to_restore.numpy())  # We get the restored value now"
      ]
    },
    {
      "cell_type": "markdown",
      "metadata": {
        "colab_type": "text",
        "id": "GqEW-_pJDAnE"
      },
      "source": [
        "これらの新しいオブジェクトの依存関係グラフは、上で書いた大きなチェックポイントのより小さなサブグラフです。これには、 `tf.train.Checkpoint`チェックポイントに番号を付けるために使用するバイアスと保存カウンターのみが含まれています。\n",
        "\n",
        "![バイアス変数のサブグラフの視覚化](https://tensorflow.org/images/guide/partial_checkpoint.svg)\n",
        "\n",
        "`restore()`は、オプションのアサーションを含むステータス オブジェクトを返します。新しい`Checkpoint`で作成したすべてのオブジェクトが復元されたため、 `status.assert_existing_objects_matched()`が成功します。"
      ]
    },
    {
      "cell_type": "code",
      "execution_count": 0,
      "metadata": {
        "colab": {
        },
        "colab_type": "code",
        "id": "P9TQXl81Dq5r"
      },
      "outputs": [

      ],
      "source": [
        "status.assert_existing_objects_matched()"
      ]
    },
    {
      "cell_type": "markdown",
      "metadata": {
        "colab_type": "text",
        "id": "GoMwf8CFDu9r"
      },
      "source": [
        "チェックポイントには、レイヤーのカーネルやオプティマイザーの変数など、一致していないオブジェクトが多数あります。 `status.assert_consumed()`チェックポイントとプログラムが正確に一致する場合にのみ合格し、ここで例外をスローします。"
      ]
    },
    {
      "cell_type": "markdown",
      "metadata": {
        "colab_type": "text",
        "id": "KCcmJ-2j9RUP"
      },
      "source": [
        "### 修復の遅れ\n",
        "\n",
        "TensorFlow の`Layer`オブジェクトは、入力シェイプが利用可能な場合、変数の作成が最初の呼び出しまで遅れることがあります。たとえば、 `Dense`レイヤーのカーネルの形状はレイヤーの入力形状と出力形状の両方に依存するため、コンストラクターの引数として必要な出力形状は、変数を独自に作成するのに十分な情報ではありません。 `Layer`を呼び出すと変数の値も読み取られるため、変数の作成と最初の使用の間に復元が行われる必要があります。\n",
        "\n",
        "このイディオムをサポートするために、 `tf.train.Checkpoint`は、一致する変数をまだ持たないリストアをキューに入れます。"
      ]
    },
    {
      "cell_type": "code",
      "execution_count": 0,
      "metadata": {
        "colab": {
        },
        "colab_type": "code",
        "id": "TXYUCO3v-I72"
      },
      "outputs": [

      ],
      "source": [
        "delayed_restore = tf.Variable(tf.zeros([1, 5]))\n",
        "print(delayed_restore.numpy())  # Not restored; still zeros\n",
        "fake_layer.kernel = delayed_restore\n",
        "print(delayed_restore.numpy())  # Restored"
      ]
    },
    {
      "cell_type": "markdown",
      "metadata": {
        "colab_type": "text",
        "id": "-DWhJ3glyobN"
      },
      "source": [
        "### チェックポイントを手動で検査する\n",
        "\n",
        "`tf.train.list_variables`チェックポイント キーとチェックポイント内の変数の形状をリストします。チェックポイント キーは、上に表示されたグラフ内のパスです。"
      ]
    },
    {
      "cell_type": "code",
      "execution_count": 0,
      "metadata": {
        "colab": {
        },
        "colab_type": "code",
        "id": "RlRsADTezoBD"
      },
      "outputs": [

      ],
      "source": [
        "tf.train.list_variables(tf.train.latest_checkpoint('./tf_ckpts/'))"
      ]
    },
    {
      "cell_type": "markdown",
      "metadata": {
        "colab_type": "text",
        "id": "5fxk_BnZ4W1b"
      },
      "source": [
        "### リストと辞書の追跡\n",
        "\n",
        "`self.l1 = tf.keras.layers.Dense(5)`のような直接の属性割り当てと同様に、リストと辞書を属性に割り当てると、その内容が追跡されます。"
      ]
    },
    {
      "cell_type": "code",
      "execution_count": 0,
      "metadata": {
        "colab": {
        },
        "colab_type": "code",
        "id": "rfaIbDtDHAr_"
      },
      "outputs": [

      ],
      "source": [
        "save = tf.train.Checkpoint()\n",
        "save.listed = [tf.Variable(1.)]\n",
        "save.listed.append(tf.Variable(2.))\n",
        "save.mapped = {'one': save.listed[0]}\n",
        "save.mapped['two'] = save.listed[1]\n",
        "save_path = save.save('./tf_list_example')\n",
        "\n",
        "restore = tf.train.Checkpoint()\n",
        "v2 = tf.Variable(0.)\n",
        "assert 0. == v2.numpy()  # Not restored yet\n",
        "restore.mapped = {'two': v2}\n",
        "restore.restore(save_path)\n",
        "assert 2. == v2.numpy()"
      ]
    },
    {
      "cell_type": "markdown",
      "metadata": {
        "colab_type": "text",
        "id": "UTKvbxHcI3T2"
      },
      "source": [
        "リストと辞書のラッパー オブジェクトに気づくかもしれません。これらのラッパーは、基礎となるデータ構造のチェックポイント可能なバージョンです。属性ベースの読み込みと同様に、これらのラッパーは変数がコンテナに追加されるとすぐに変数の値を復元します。"
      ]
    },
    {
      "cell_type": "code",
      "execution_count": 0,
      "metadata": {
        "colab": {
        },
        "colab_type": "code",
        "id": "s0Uq1Hv5JCmm"
      },
      "outputs": [

      ],
      "source": [
        "restore.listed = []\n",
        "print(restore.listed)  # ListWrapper([])\n",
        "v1 = tf.Variable(0.)\n",
        "restore.listed.append(v1)  # Restores v1, from restore() in the previous cell\n",
        "assert 1. == v1.numpy()"
      ]
    },
    {
      "cell_type": "markdown",
      "metadata": {
        "colab_type": "text",
        "id": "OxCIf2J6JyQ8"
      },
      "source": [
        "同じ追跡が`tf.keras.Model`のサブクラスに自動的に適用され、たとえばレイヤーのリストを追跡するために使用できます。"
      ]
    },
    {
      "cell_type": "markdown",
      "metadata": {
        "colab_type": "text",
        "id": "zGG1tOM0L6iM"
      },
      "source": [
        "## Estimator を使用したオブジェクトベースのチェックポイントの保存\n",
        "\n",
        "[「推定ガイド」を](https://www.tensorflow.org/guide/estimator)参照してください。\n",
        "\n",
        "デフォルトでは、エスティメーターは、前のセクションで説明したオブジェクト グラフではなく、変数名を使用してチェックポイントを保存します。 `tf.train.Checkpoint`名前ベースのチェックポイントを受け入れますが、モデルの一部を Estimator の`model_fn`の外に移動すると変数名が変更される可能性があります。オブジェクトベースのチェックポイントを保存すると、Estimator 内でモデルをトレーニングし、それを Estimator の外で使用することが容易になります。"
      ]
    },
    {
      "cell_type": "code",
      "execution_count": 0,
      "metadata": {
        "colab": {
        },
        "colab_type": "code",
        "id": "-8AMJeueNyoM"
      },
      "outputs": [

      ],
      "source": [
        "import tensorflow.compat.v1 as tf_compat"
      ]
    },
    {
      "cell_type": "code",
      "execution_count": 0,
      "metadata": {
        "colab": {
        },
        "colab_type": "code",
        "id": "T6fQsBzJQN2y"
      },
      "outputs": [

      ],
      "source": [
        "def model_fn(features, labels, mode):\n",
        "  net = Net()\n",
        "  opt = tf.keras.optimizers.Adam(0.1)\n",
        "  ckpt = tf.train.Checkpoint(step=tf_compat.train.get_global_step(),\n",
        "                             optimizer=opt, net=net)\n",
        "  with tf.GradientTape() as tape:\n",
        "    output = net(features['x'])\n",
        "    loss = tf.reduce_mean(tf.abs(output - features['y']))\n",
        "  variables = net.trainable_variables\n",
        "  gradients = tape.gradient(loss, variables)\n",
        "  return tf.estimator.EstimatorSpec(\n",
        "    mode,\n",
        "    loss=loss,\n",
        "    train_op=tf.group(opt.apply_gradients(zip(gradients, variables)),\n",
        "                      ckpt.step.assign_add(1)),\n",
        "    # Tell the Estimator to save \"ckpt\" in an object-based format.\n",
        "    scaffold=tf_compat.train.Scaffold(saver=ckpt))\n",
        "\n",
        "tf.keras.backend.clear_session()\n",
        "est = tf.estimator.Estimator(model_fn, './tf_estimator_example/')\n",
        "est.train(toy_dataset, steps=10)"
      ]
    },
    {
      "cell_type": "markdown",
      "metadata": {
        "colab_type": "text",
        "id": "tObYHnrrb_mL"
      },
      "source": [
        "`tf.train.Checkpoint` `model_dir`から Estimator のチェックポイントをロードできます。"
      ]
    },
    {
      "cell_type": "code",
      "execution_count": 0,
      "metadata": {
        "colab": {
        },
        "colab_type": "code",
        "id": "Q6IP3Y_wb-fs"
      },
      "outputs": [

      ],
      "source": [
        "opt = tf.keras.optimizers.Adam(0.1)\n",
        "net = Net()\n",
        "ckpt = tf.train.Checkpoint(\n",
        "  step=tf.Variable(1, dtype=tf.int64), optimizer=opt, net=net)\n",
        "ckpt.restore(tf.train.latest_checkpoint('./tf_estimator_example/'))\n",
        "ckpt.step.numpy()  # From est.train(..., steps=10)"
      ]
    },
    {
      "cell_type": "markdown",
      "metadata": {
        "colab_type": "text",
        "id": "knyUFMrJg8y4"
      },
      "source": [
        "## まとめ\n",
        "\n",
        "TensorFlow オブジェクトは、使用する変数の値を保存および復元するための簡単な自動メカニズムを提供します。\n"
      ]
    }
  ],
  "metadata": {
    "colab": {
      "collapsed_sections": [

      ],
      "name": "checkpoint.ipynb",
      "private_outputs": true,
      "provenance": [

      ],
      "toc_visible": true
    },
    "kernelspec": {
      "display_name": "Python 3",
      "language": "python",
      "name": "python3"
    },
    "language_info": {
      "codemirror_mode": {
        "name": "ipython",
        "version": 3
      },
      "file_extension": ".py",
      "mimetype": "text/x-python",
      "name": "python",
      "nbconvert_exporter": "python",
      "pygments_lexer": "ipython3",
      "version": "3.8.8"
    }
  },
  "nbformat": 4,
  "nbformat_minor": 1
}
