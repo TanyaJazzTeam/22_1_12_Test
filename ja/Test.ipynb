{
  "cells": [
    {
      "cell_type": "markdown",
      "id": "b4d25f25",
      "metadata": {
      },
      "source": [
        "<!---\n",
        "\n",
        "Hi Ilya\n",
        "-->"
      ]
    },
    {
      "cell_type": "markdown",
      "id": "abbdc06c",
      "metadata": {
      },
      "source": [
        "---\n",
        "\n",
        "私: 名前: Kate2 職業: 通訳\n",
        "\n",
        "---"
      ]
    },
    {
      "cell_type": "markdown",
      "id": "d1087828",
      "metadata": {
      },
      "source": [
        "# レッスン2。"
      ]
    },
    {
      "cell_type": "markdown",
      "id": "6425db25",
      "metadata": {
      },
      "source": [
        "## あなたが生まれた家族"
      ]
    },
    {
      "cell_type": "markdown",
      "id": "49c5eb1d",
      "metadata": {
      },
      "source": [
        "1. 以下の言葉を見てください。サフィxフードとはどういう意味ですか?\n",
        "2. リストにさらに単語を追加します。\n",
        "3. ペアで作業します。あなたの子供時代についての質問について話し合います。"
      ]
    },
    {
      "cell_type": "markdown",
      "id": "f538597f",
      "metadata": {
      },
      "source": [
        "# レッスン 3."
      ]
    },
    {
      "cell_type": "markdown",
      "id": "718b6d4f",
      "metadata": {
      },
      "source": [
        "## 現代の家族"
      ]
    },
    {
      "cell_type": "markdown",
      "id": "1cb70808",
      "metadata": {
      },
      "source": [
        "- 統計から何がわかるのでしょうか?統計に興味がありますか?以下の情報をお読みください。統計は単数名詞ですか、それとも複数名詞ですか?\n",
        "- 現代の平均的な家族について、統計から何がわかるでしょうか?以下のプロンプトと独自のアイデアを使用してください。"
      ]
    },
    {
      "cell_type": "markdown",
      "id": "a08073bc",
      "metadata": {
      },
      "source": [
        "***"
      ]
    },
    {
      "cell_type": "markdown",
      "id": "fe86dd82",
      "metadata": {
      },
      "source": [
        "> テーブル"
      ]
    },
    {
      "cell_type": "markdown",
      "id": "6f27920e",
      "metadata": {
      },
      "source": [
        "名前 | 答え\n",
        "--- | ---\n",
        "10人中9人以上の親が | 90分\n",
        "家族の約5分の1が | 91%\n",
        "八時半 | 31%\n",
        "ほぼ3分の1 | 8:30"
      ]
    },
    {
      "cell_type": "markdown",
      "id": "52251d42",
      "metadata": {
      },
      "source": [
        "[牛乳](https://ru.wikipedia.org/wiki/%D0%9C%D0%BE%D0%BB%D0%BE%D0%BA%D0%BE)"
      ]
    },
    {
      "cell_type": "markdown",
      "id": "c5013c7b",
      "metadata": {
      },
      "source": [
        "---"
      ]
    },
    {
      "cell_type": "markdown",
      "id": "eb4c9684",
      "metadata": {
      },
      "source": [
        "[チーズ](https://ru.wikipedia.org/wiki/%D0%A1%D1%8B%D1%80)"
      ]
    },
    {
      "cell_type": "markdown",
      "id": "ce4da703",
      "metadata": {
      },
      "source": [
        "### 写真"
      ]
    },
    {
      "cell_type": "markdown",
      "id": "c40e0223",
      "metadata": {
      },
      "source": [
        "![p1](https://ekootkr.ot7.ru/admin/uploads/7/7/1/%D0%9E%D1%82%D0%BA%D1%80%D1%8B%D1%82%D0%BA%D0%B0-%D1%81-%D1%86%D0%B2%D0%B5%D1%82%D0%B0%D0%BC%D0%B8-%D0%BF%D0%BE%D0%B7%D0%B4%D1%80%D0%B0%D0%B2%D0%BB%D1%8F%D1%8E-%D0%BA%D0%B0%D1%80%D1%82%D0%B8%D0%BD%D0%BA%D0%B8-%D1%81-%D0%BD%D0%B0%D0%B4%D0%BF%D0%B8%D1%81%D1%8C%D1%8E-%D0%9F%D0%BE%D0%B7%D0%B4%D1%80%D0%B0%D0%B2%D0%BB%D1%8F%D1%8E-11515.jpg)"
      ]
    },
    {
      "cell_type": "markdown",
      "id": "2507d5ae",
      "metadata": {
      },
      "source": [
        "![p2](https://c.tenor.com/9zmtHZ0tIjkAAAAj/nyancat-rainbow-cat.gif)"
      ]
    },
    {
      "cell_type": "markdown",
      "id": "db5c1283",
      "metadata": {
      },
      "source": [
        "```\n",
        "{\n",
        "  <html>\n",
        "<head>\n",
        "<meta charset=\"UTF-8\">\n",
        "<title>Заголовок страницы</title>\n",
        "</head>\n",
        "  <body>\n",
        "    <h1>Это заголовок</h1>\n",
        "    <p>Это параграф.</p>\n",
        "  </body>\n",
        "</html>\n",
        "}\n",
        "```"
      ]
    }
  ],
  "metadata": {
    "kernelspec": {
      "display_name": "Python 3",
      "language": "python",
      "name": "python3"
    },
    "language_info": {
      "codemirror_mode": {
        "name": "ipython",
        "version": 3
      },
      "file_extension": ".py",
      "mimetype": "text/x-python",
      "name": "python",
      "nbconvert_exporter": "python",
      "pygments_lexer": "ipython3",
      "version": "3.8.8"
    }
  },
  "nbformat": 4,
  "nbformat_minor": 5
}
